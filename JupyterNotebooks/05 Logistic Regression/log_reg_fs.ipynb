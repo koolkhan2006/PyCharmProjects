{
 "cells": [
  {
   "cell_type": "code",
   "execution_count": 102,
   "metadata": {},
   "outputs": [],
   "source": [
    "import pandas as pd\n",
    "import numpy as np\n",
    "df = pd.read_csv(\"adult-census-income.zip\")\n",
    "removal= df.isin(['?']).any()[df.isin(['?']).any()==True].index.tolist()\n",
    "for col in removal:\n",
    "        df[col]= df[col].replace(\"?\", np.NaN)\n",
    "        try:\n",
    "            df[col] = df[col].astype(float)\n",
    "            mean = (df[col].mean(skipna=True))\n",
    "        except:\n",
    "            mean = df[col].mode()\n",
    "            mean = mean[0]\n",
    "        df[col]= df[col].replace(np.NaN, mean)\n",
    "df_clean = df\n",
    "from sklearn.preprocessing import LabelEncoder\n",
    "le = LabelEncoder()\n",
    "df[\"income\"] = le.fit_transform(df[\"income\"])\n",
    "X = df.drop([\"income\"],1)\n",
    "y = df[\"income\"]\n",
    "num = X.select_dtypes(include = np.number)\n",
    "cat = X.select_dtypes(exclude = np.number)\n",
    "for x in list(cat):\n",
    "    cat[x] = cat[x].str.lower()\n",
    "import warnings\n",
    "warnings.filterwarnings(\"ignore\")\n",
    "cat.drop([\"education\"],1,inplace = True)\n",
    "cat = pd.get_dummies(cat, drop_first=True)\n",
    "from sklearn.preprocessing import StandardScaler\n",
    "scaler = StandardScaler()\n",
    "num = pd.DataFrame(scaler.fit_transform(num), columns=list(num))"
   ]
  },
  {
   "cell_type": "code",
   "execution_count": 105,
   "metadata": {},
   "outputs": [],
   "source": [
    "def remove_outlier(X,y,z):\n",
    "    scaler = StandardScaler()\n",
    "    scaled_X = pd.DataFrame(scaler.fit_transform(X), columns=list(X))\n",
    "    for column_name in list(X):\n",
    "        X = X.drop(scaled_X[scaled_X[column_name] <= -3].index)\n",
    "        X = X.drop(scaled_X[scaled_X[column_name] >= 3].index)\n",
    "        y = y.drop(scaled_X[scaled_X[column_name] <= -3].index)\n",
    "        y = y.drop(scaled_X[scaled_X[column_name] >= 3].index)\n",
    "        z = z.drop(scaled_X[scaled_X[column_name] <= -3].index)\n",
    "        z = z.drop(scaled_X[scaled_X[column_name] >= 3].index)\n",
    "        scaled_X = scaled_X.drop(scaled_X[scaled_X[column_name] <= -3].index)\n",
    "        scaled_X = scaled_X.drop(scaled_X[scaled_X[column_name] >= 3].index)\n",
    "        X = X.reset_index(drop=True)\n",
    "        y = y.reset_index(drop=True)\n",
    "        z = z.reset_index(drop=True)\n",
    "        scaled_X = scaled_X.reset_index(drop=True)\n",
    "    return(X,y,z)\n",
    "num,y,cat = remove_outlier(num,y,cat)\n"
   ]
  },
  {
   "cell_type": "code",
   "execution_count": 109,
   "metadata": {},
   "outputs": [
    {
     "data": {
      "text/plain": [
       "(29828,)"
      ]
     },
     "execution_count": 109,
     "metadata": {},
     "output_type": "execute_result"
    }
   ],
   "source": [
    "y.shape"
   ]
  },
  {
   "cell_type": "code",
   "execution_count": 111,
   "metadata": {},
   "outputs": [],
   "source": [
    "X = pd.concat([num,cat],1)\n",
    "y = y"
   ]
  },
  {
   "cell_type": "code",
   "execution_count": 130,
   "metadata": {},
   "outputs": [],
   "source": [
    "from sklearn.linear_model import LogisticRegression\n",
    "from sklearn.model_selection import  GridSearchCV, train_test_split as tts\n",
    "from sklearn.metrics import confusion_matrix, classification_report, accuracy_score, roc_auc_score, roc_curve"
   ]
  },
  {
   "cell_type": "code",
   "execution_count": 126,
   "metadata": {},
   "outputs": [],
   "source": [
    "log_reg = LogisticRegression(random_state=42, class_weight=\"balanced\", C = 100)"
   ]
  },
  {
   "cell_type": "code",
   "execution_count": 127,
   "metadata": {},
   "outputs": [
    {
     "data": {
      "text/plain": [
       "0.805551830494837"
      ]
     },
     "execution_count": 127,
     "metadata": {},
     "output_type": "execute_result"
    }
   ],
   "source": [
    "log_reg.fit(X,y)\n",
    "log_reg.score(X,y)"
   ]
  },
  {
   "cell_type": "code",
   "execution_count": 128,
   "metadata": {},
   "outputs": [
    {
     "name": "stdout",
     "output_type": "stream",
     "text": [
      "0.8017969692905994\n",
      "              precision    recall  f1-score   support\n",
      "\n",
      "           0       0.95      0.79      0.86      5786\n",
      "           1       0.54      0.84      0.66      1671\n",
      "\n",
      "    accuracy                           0.80      7457\n",
      "   macro avg       0.74      0.82      0.76      7457\n",
      "weighted avg       0.85      0.80      0.81      7457\n",
      "\n"
     ]
    }
   ],
   "source": [
    "X_train, X_test, y_train, y_test = tts(X,y,test_size = 0.25, random_state = 42)\n",
    "log_reg.fit(X_train,y_train)\n",
    "y_pred = log_reg.predict(X_test)\n",
    "print (accuracy_score(y_test,y_pred))\n",
    "print (classification_report(y_test,y_pred))"
   ]
  },
  {
   "cell_type": "code",
   "execution_count": 129,
   "metadata": {},
   "outputs": [
    {
     "name": "stdout",
     "output_type": "stream",
     "text": [
      "[[4569 1217]\n",
      " [ 261 1410]]\n"
     ]
    }
   ],
   "source": [
    "print (confusion_matrix(y_test,y_pred))"
   ]
  },
  {
   "cell_type": "code",
   "execution_count": 131,
   "metadata": {},
   "outputs": [
    {
     "name": "stdout",
     "output_type": "stream",
     "text": [
      "0.8167354060224612\n"
     ]
    }
   ],
   "source": [
    "print (roc_auc_score(y_test,y_pred))"
   ]
  },
  {
   "cell_type": "code",
   "execution_count": 135,
   "metadata": {},
   "outputs": [],
   "source": [
    "log_reg = LogisticRegression(random_state=42, class_weight=\"balanced\")"
   ]
  },
  {
   "cell_type": "code",
   "execution_count": 136,
   "metadata": {},
   "outputs": [
    {
     "data": {
      "text/plain": [
       "LogisticRegression(C=1.0, class_weight='balanced', dual=False,\n",
       "                   fit_intercept=True, intercept_scaling=1, l1_ratio=None,\n",
       "                   max_iter=100, multi_class='warn', n_jobs=None, penalty='l2',\n",
       "                   random_state=42, solver='warn', tol=0.0001, verbose=0,\n",
       "                   warm_start=False)"
      ]
     },
     "execution_count": 136,
     "metadata": {},
     "output_type": "execute_result"
    }
   ],
   "source": [
    "log_reg.fit(X,y)"
   ]
  },
  {
   "cell_type": "code",
   "execution_count": 144,
   "metadata": {},
   "outputs": [],
   "source": [
    "features = list(X)"
   ]
  },
  {
   "cell_type": "code",
   "execution_count": 145,
   "metadata": {},
   "outputs": [],
   "source": [
    "fs = pd.DataFrame()\n",
    "ranking = pd.Series(log_reg.coef_[0])"
   ]
  },
  {
   "cell_type": "code",
   "execution_count": 147,
   "metadata": {},
   "outputs": [],
   "source": [
    "fs[\"features\"] = features\n",
    "fs[\"ranking\"] = ranking"
   ]
  },
  {
   "cell_type": "code",
   "execution_count": 150,
   "metadata": {},
   "outputs": [],
   "source": [
    "fs[\"ranking\"] = np.abs(fs[\"ranking\"])"
   ]
  },
  {
   "cell_type": "code",
   "execution_count": 157,
   "metadata": {},
   "outputs": [],
   "source": [
    "fs = fs.sort_values([\"ranking\"], ascending=False)"
   ]
  },
  {
   "cell_type": "code",
   "execution_count": 160,
   "metadata": {},
   "outputs": [],
   "source": [
    "features_1 = fs[:30]"
   ]
  },
  {
   "cell_type": "code",
   "execution_count": 161,
   "metadata": {},
   "outputs": [],
   "source": [
    "from sklearn.feature_selection import SelectKBest, f_classif"
   ]
  },
  {
   "cell_type": "code",
   "execution_count": 162,
   "metadata": {},
   "outputs": [],
   "source": [
    "skb = SelectKBest(score_func=f_classif, k = 10)"
   ]
  },
  {
   "cell_type": "code",
   "execution_count": 163,
   "metadata": {},
   "outputs": [
    {
     "data": {
      "text/plain": [
       "SelectKBest(k=10, score_func=<function f_classif at 0x1a2dc65b90>)"
      ]
     },
     "execution_count": 163,
     "metadata": {},
     "output_type": "execute_result"
    }
   ],
   "source": [
    "skb.fit(X,y)"
   ]
  },
  {
   "cell_type": "code",
   "execution_count": 169,
   "metadata": {},
   "outputs": [],
   "source": []
  },
  {
   "cell_type": "code",
   "execution_count": 170,
   "metadata": {},
   "outputs": [
    {
     "data": {
      "text/html": [
       "<div>\n",
       "<style scoped>\n",
       "    .dataframe tbody tr th:only-of-type {\n",
       "        vertical-align: middle;\n",
       "    }\n",
       "\n",
       "    .dataframe tbody tr th {\n",
       "        vertical-align: top;\n",
       "    }\n",
       "\n",
       "    .dataframe thead th {\n",
       "        text-align: right;\n",
       "    }\n",
       "</style>\n",
       "<table border=\"1\" class=\"dataframe\">\n",
       "  <thead>\n",
       "    <tr style=\"text-align: right;\">\n",
       "      <th></th>\n",
       "      <th>features</th>\n",
       "      <th>ranking</th>\n",
       "      <th>pvalues</th>\n",
       "    </tr>\n",
       "  </thead>\n",
       "  <tbody>\n",
       "    <tr>\n",
       "      <td>13</td>\n",
       "      <td>marital.status_married-af-spouse</td>\n",
       "      <td>2.497979</td>\n",
       "      <td>1.492557e-03</td>\n",
       "    </tr>\n",
       "    <tr>\n",
       "      <td>3</td>\n",
       "      <td>capital.gain</td>\n",
       "      <td>2.452599</td>\n",
       "      <td>0.000000e+00</td>\n",
       "    </tr>\n",
       "    <tr>\n",
       "      <td>14</td>\n",
       "      <td>marital.status_married-civ-spouse</td>\n",
       "      <td>1.989641</td>\n",
       "      <td>0.000000e+00</td>\n",
       "    </tr>\n",
       "    <tr>\n",
       "      <td>26</td>\n",
       "      <td>occupation_priv-house-serv</td>\n",
       "      <td>1.873840</td>\n",
       "      <td>1.223801e-09</td>\n",
       "    </tr>\n",
       "    <tr>\n",
       "      <td>12</td>\n",
       "      <td>workclass_without-pay</td>\n",
       "      <td>1.711998</td>\n",
       "      <td>4.491917e-02</td>\n",
       "    </tr>\n",
       "    <tr>\n",
       "      <td>...</td>\n",
       "      <td>...</td>\n",
       "      <td>...</td>\n",
       "      <td>...</td>\n",
       "    </tr>\n",
       "    <tr>\n",
       "      <td>1</td>\n",
       "      <td>fnlwgt</td>\n",
       "      <td>0.075098</td>\n",
       "      <td>1.178494e-01</td>\n",
       "    </tr>\n",
       "    <tr>\n",
       "      <td>76</td>\n",
       "      <td>native.country_taiwan</td>\n",
       "      <td>0.037656</td>\n",
       "      <td>6.027211e-02</td>\n",
       "    </tr>\n",
       "    <tr>\n",
       "      <td>18</td>\n",
       "      <td>marital.status_widowed</td>\n",
       "      <td>0.028456</td>\n",
       "      <td>4.777195e-26</td>\n",
       "    </tr>\n",
       "    <tr>\n",
       "      <td>31</td>\n",
       "      <td>occupation_transport-moving</td>\n",
       "      <td>0.027085</td>\n",
       "      <td>9.852607e-04</td>\n",
       "    </tr>\n",
       "    <tr>\n",
       "      <td>55</td>\n",
       "      <td>native.country_holand-netherlands</td>\n",
       "      <td>0.000000</td>\n",
       "      <td>NaN</td>\n",
       "    </tr>\n",
       "  </tbody>\n",
       "</table>\n",
       "<p>82 rows × 3 columns</p>\n",
       "</div>"
      ],
      "text/plain": [
       "                             features   ranking       pvalues\n",
       "13   marital.status_married-af-spouse  2.497979  1.492557e-03\n",
       "3                        capital.gain  2.452599  0.000000e+00\n",
       "14  marital.status_married-civ-spouse  1.989641  0.000000e+00\n",
       "26         occupation_priv-house-serv  1.873840  1.223801e-09\n",
       "12              workclass_without-pay  1.711998  4.491917e-02\n",
       "..                                ...       ...           ...\n",
       "1                              fnlwgt  0.075098  1.178494e-01\n",
       "76              native.country_taiwan  0.037656  6.027211e-02\n",
       "18             marital.status_widowed  0.028456  4.777195e-26\n",
       "31        occupation_transport-moving  0.027085  9.852607e-04\n",
       "55  native.country_holand-netherlands  0.000000           NaN\n",
       "\n",
       "[82 rows x 3 columns]"
      ]
     },
     "execution_count": 170,
     "metadata": {},
     "output_type": "execute_result"
    }
   ],
   "source": [
    "fs"
   ]
  },
  {
   "cell_type": "code",
   "execution_count": 171,
   "metadata": {},
   "outputs": [],
   "source": [
    "fs = pd.DataFrame()"
   ]
  },
  {
   "cell_type": "code",
   "execution_count": 172,
   "metadata": {},
   "outputs": [],
   "source": [
    "fs[\"features\"] = list(X)\n",
    "fs[\"p_values\"] = pd.Series(skb.pvalues_)"
   ]
  },
  {
   "cell_type": "code",
   "execution_count": 176,
   "metadata": {},
   "outputs": [
    {
     "data": {
      "text/html": [
       "<div>\n",
       "<style scoped>\n",
       "    .dataframe tbody tr th:only-of-type {\n",
       "        vertical-align: middle;\n",
       "    }\n",
       "\n",
       "    .dataframe tbody tr th {\n",
       "        vertical-align: top;\n",
       "    }\n",
       "\n",
       "    .dataframe thead th {\n",
       "        text-align: right;\n",
       "    }\n",
       "</style>\n",
       "<table border=\"1\" class=\"dataframe\">\n",
       "  <thead>\n",
       "    <tr style=\"text-align: right;\">\n",
       "      <th></th>\n",
       "      <th>features</th>\n",
       "      <th>p_values</th>\n",
       "    </tr>\n",
       "  </thead>\n",
       "  <tbody>\n",
       "    <tr>\n",
       "      <td>0</td>\n",
       "      <td>age</td>\n",
       "      <td>0.000000e+00</td>\n",
       "    </tr>\n",
       "    <tr>\n",
       "      <td>2</td>\n",
       "      <td>education.num</td>\n",
       "      <td>0.000000e+00</td>\n",
       "    </tr>\n",
       "    <tr>\n",
       "      <td>3</td>\n",
       "      <td>capital.gain</td>\n",
       "      <td>0.000000e+00</td>\n",
       "    </tr>\n",
       "    <tr>\n",
       "      <td>14</td>\n",
       "      <td>marital.status_married-civ-spouse</td>\n",
       "      <td>0.000000e+00</td>\n",
       "    </tr>\n",
       "    <tr>\n",
       "      <td>5</td>\n",
       "      <td>hours.per.week</td>\n",
       "      <td>0.000000e+00</td>\n",
       "    </tr>\n",
       "    <tr>\n",
       "      <td>34</td>\n",
       "      <td>relationship_own-child</td>\n",
       "      <td>0.000000e+00</td>\n",
       "    </tr>\n",
       "    <tr>\n",
       "      <td>16</td>\n",
       "      <td>marital.status_never-married</td>\n",
       "      <td>0.000000e+00</td>\n",
       "    </tr>\n",
       "    <tr>\n",
       "      <td>41</td>\n",
       "      <td>sex_male</td>\n",
       "      <td>2.850083e-294</td>\n",
       "    </tr>\n",
       "    <tr>\n",
       "      <td>21</td>\n",
       "      <td>occupation_exec-managerial</td>\n",
       "      <td>5.546128e-287</td>\n",
       "    </tr>\n",
       "    <tr>\n",
       "      <td>32</td>\n",
       "      <td>relationship_not-in-family</td>\n",
       "      <td>3.019114e-223</td>\n",
       "    </tr>\n",
       "    <tr>\n",
       "      <td>25</td>\n",
       "      <td>occupation_other-service</td>\n",
       "      <td>3.177677e-150</td>\n",
       "    </tr>\n",
       "    <tr>\n",
       "      <td>35</td>\n",
       "      <td>relationship_unmarried</td>\n",
       "      <td>4.884975e-133</td>\n",
       "    </tr>\n",
       "    <tr>\n",
       "      <td>9</td>\n",
       "      <td>workclass_self-emp-inc</td>\n",
       "      <td>1.167450e-108</td>\n",
       "    </tr>\n",
       "    <tr>\n",
       "      <td>36</td>\n",
       "      <td>relationship_wife</td>\n",
       "      <td>6.658655e-107</td>\n",
       "    </tr>\n",
       "    <tr>\n",
       "      <td>8</td>\n",
       "      <td>workclass_private</td>\n",
       "      <td>2.890230e-97</td>\n",
       "    </tr>\n",
       "    <tr>\n",
       "      <td>27</td>\n",
       "      <td>occupation_prof-specialty</td>\n",
       "      <td>3.414559e-75</td>\n",
       "    </tr>\n",
       "    <tr>\n",
       "      <td>38</td>\n",
       "      <td>race_black</td>\n",
       "      <td>4.826790e-53</td>\n",
       "    </tr>\n",
       "    <tr>\n",
       "      <td>23</td>\n",
       "      <td>occupation_handlers-cleaners</td>\n",
       "      <td>8.520424e-49</td>\n",
       "    </tr>\n",
       "    <tr>\n",
       "      <td>40</td>\n",
       "      <td>race_white</td>\n",
       "      <td>1.186631e-48</td>\n",
       "    </tr>\n",
       "    <tr>\n",
       "      <td>33</td>\n",
       "      <td>relationship_other-relative</td>\n",
       "      <td>8.256773e-45</td>\n",
       "    </tr>\n",
       "    <tr>\n",
       "      <td>17</td>\n",
       "      <td>marital.status_separated</td>\n",
       "      <td>2.672942e-37</td>\n",
       "    </tr>\n",
       "    <tr>\n",
       "      <td>24</td>\n",
       "      <td>occupation_machine-op-inspct</td>\n",
       "      <td>9.640241e-29</td>\n",
       "    </tr>\n",
       "    <tr>\n",
       "      <td>18</td>\n",
       "      <td>marital.status_widowed</td>\n",
       "      <td>4.777195e-26</td>\n",
       "    </tr>\n",
       "    <tr>\n",
       "      <td>66</td>\n",
       "      <td>native.country_mexico</td>\n",
       "      <td>1.438507e-22</td>\n",
       "    </tr>\n",
       "    <tr>\n",
       "      <td>22</td>\n",
       "      <td>occupation_farming-fishing</td>\n",
       "      <td>2.169430e-17</td>\n",
       "    </tr>\n",
       "    <tr>\n",
       "      <td>15</td>\n",
       "      <td>marital.status_married-spouse-absent</td>\n",
       "      <td>7.898510e-13</td>\n",
       "    </tr>\n",
       "    <tr>\n",
       "      <td>6</td>\n",
       "      <td>workclass_local-gov</td>\n",
       "      <td>2.211678e-10</td>\n",
       "    </tr>\n",
       "    <tr>\n",
       "      <td>26</td>\n",
       "      <td>occupation_priv-house-serv</td>\n",
       "      <td>1.223801e-09</td>\n",
       "    </tr>\n",
       "    <tr>\n",
       "      <td>28</td>\n",
       "      <td>occupation_protective-serv</td>\n",
       "      <td>1.938875e-08</td>\n",
       "    </tr>\n",
       "    <tr>\n",
       "      <td>79</td>\n",
       "      <td>native.country_united-states</td>\n",
       "      <td>5.258888e-08</td>\n",
       "    </tr>\n",
       "  </tbody>\n",
       "</table>\n",
       "</div>"
      ],
      "text/plain": [
       "                                features       p_values\n",
       "0                                    age   0.000000e+00\n",
       "2                          education.num   0.000000e+00\n",
       "3                           capital.gain   0.000000e+00\n",
       "14     marital.status_married-civ-spouse   0.000000e+00\n",
       "5                         hours.per.week   0.000000e+00\n",
       "34                relationship_own-child   0.000000e+00\n",
       "16          marital.status_never-married   0.000000e+00\n",
       "41                              sex_male  2.850083e-294\n",
       "21            occupation_exec-managerial  5.546128e-287\n",
       "32            relationship_not-in-family  3.019114e-223\n",
       "25              occupation_other-service  3.177677e-150\n",
       "35                relationship_unmarried  4.884975e-133\n",
       "9                 workclass_self-emp-inc  1.167450e-108\n",
       "36                     relationship_wife  6.658655e-107\n",
       "8                      workclass_private   2.890230e-97\n",
       "27             occupation_prof-specialty   3.414559e-75\n",
       "38                            race_black   4.826790e-53\n",
       "23          occupation_handlers-cleaners   8.520424e-49\n",
       "40                            race_white   1.186631e-48\n",
       "33           relationship_other-relative   8.256773e-45\n",
       "17              marital.status_separated   2.672942e-37\n",
       "24          occupation_machine-op-inspct   9.640241e-29\n",
       "18                marital.status_widowed   4.777195e-26\n",
       "66                 native.country_mexico   1.438507e-22\n",
       "22            occupation_farming-fishing   2.169430e-17\n",
       "15  marital.status_married-spouse-absent   7.898510e-13\n",
       "6                    workclass_local-gov   2.211678e-10\n",
       "26            occupation_priv-house-serv   1.223801e-09\n",
       "28            occupation_protective-serv   1.938875e-08\n",
       "79          native.country_united-states   5.258888e-08"
      ]
     },
     "execution_count": 176,
     "metadata": {},
     "output_type": "execute_result"
    }
   ],
   "source": [
    "fs.sort_values([\"p_values\"], ascending = True)[:30]"
   ]
  },
  {
   "cell_type": "code",
   "execution_count": 177,
   "metadata": {},
   "outputs": [
    {
     "data": {
      "text/html": [
       "<div>\n",
       "<style scoped>\n",
       "    .dataframe tbody tr th:only-of-type {\n",
       "        vertical-align: middle;\n",
       "    }\n",
       "\n",
       "    .dataframe tbody tr th {\n",
       "        vertical-align: top;\n",
       "    }\n",
       "\n",
       "    .dataframe thead th {\n",
       "        text-align: right;\n",
       "    }\n",
       "</style>\n",
       "<table border=\"1\" class=\"dataframe\">\n",
       "  <thead>\n",
       "    <tr style=\"text-align: right;\">\n",
       "      <th></th>\n",
       "      <th>features</th>\n",
       "      <th>ranking</th>\n",
       "    </tr>\n",
       "  </thead>\n",
       "  <tbody>\n",
       "    <tr>\n",
       "      <td>13</td>\n",
       "      <td>marital.status_married-af-spouse</td>\n",
       "      <td>2.497979</td>\n",
       "    </tr>\n",
       "    <tr>\n",
       "      <td>3</td>\n",
       "      <td>capital.gain</td>\n",
       "      <td>2.452599</td>\n",
       "    </tr>\n",
       "    <tr>\n",
       "      <td>14</td>\n",
       "      <td>marital.status_married-civ-spouse</td>\n",
       "      <td>1.989641</td>\n",
       "    </tr>\n",
       "    <tr>\n",
       "      <td>26</td>\n",
       "      <td>occupation_priv-house-serv</td>\n",
       "      <td>1.873840</td>\n",
       "    </tr>\n",
       "    <tr>\n",
       "      <td>12</td>\n",
       "      <td>workclass_without-pay</td>\n",
       "      <td>1.711998</td>\n",
       "    </tr>\n",
       "    <tr>\n",
       "      <td>44</td>\n",
       "      <td>native.country_columbia</td>\n",
       "      <td>1.621579</td>\n",
       "    </tr>\n",
       "    <tr>\n",
       "      <td>36</td>\n",
       "      <td>relationship_wife</td>\n",
       "      <td>1.483319</td>\n",
       "    </tr>\n",
       "    <tr>\n",
       "      <td>46</td>\n",
       "      <td>native.country_dominican-republic</td>\n",
       "      <td>1.278011</td>\n",
       "    </tr>\n",
       "    <tr>\n",
       "      <td>68</td>\n",
       "      <td>native.country_outlying-us(guam-usvi-etc)</td>\n",
       "      <td>1.029194</td>\n",
       "    </tr>\n",
       "    <tr>\n",
       "      <td>22</td>\n",
       "      <td>occupation_farming-fishing</td>\n",
       "      <td>0.992508</td>\n",
       "    </tr>\n",
       "    <tr>\n",
       "      <td>10</td>\n",
       "      <td>workclass_self-emp-not-inc</td>\n",
       "      <td>0.930919</td>\n",
       "    </tr>\n",
       "    <tr>\n",
       "      <td>41</td>\n",
       "      <td>sex_male</td>\n",
       "      <td>0.840395</td>\n",
       "    </tr>\n",
       "    <tr>\n",
       "      <td>67</td>\n",
       "      <td>native.country_nicaragua</td>\n",
       "      <td>0.839061</td>\n",
       "    </tr>\n",
       "    <tr>\n",
       "      <td>11</td>\n",
       "      <td>workclass_state-gov</td>\n",
       "      <td>0.825129</td>\n",
       "    </tr>\n",
       "    <tr>\n",
       "      <td>62</td>\n",
       "      <td>native.country_italy</td>\n",
       "      <td>0.792821</td>\n",
       "    </tr>\n",
       "    <tr>\n",
       "      <td>81</td>\n",
       "      <td>native.country_yugoslavia</td>\n",
       "      <td>0.791697</td>\n",
       "    </tr>\n",
       "    <tr>\n",
       "      <td>2</td>\n",
       "      <td>education.num</td>\n",
       "      <td>0.783307</td>\n",
       "    </tr>\n",
       "    <tr>\n",
       "      <td>21</td>\n",
       "      <td>occupation_exec-managerial</td>\n",
       "      <td>0.761467</td>\n",
       "    </tr>\n",
       "    <tr>\n",
       "      <td>34</td>\n",
       "      <td>relationship_own-child</td>\n",
       "      <td>0.755001</td>\n",
       "    </tr>\n",
       "    <tr>\n",
       "      <td>25</td>\n",
       "      <td>occupation_other-service</td>\n",
       "      <td>0.737021</td>\n",
       "    </tr>\n",
       "    <tr>\n",
       "      <td>75</td>\n",
       "      <td>native.country_south</td>\n",
       "      <td>0.733478</td>\n",
       "    </tr>\n",
       "    <tr>\n",
       "      <td>69</td>\n",
       "      <td>native.country_peru</td>\n",
       "      <td>0.720105</td>\n",
       "    </tr>\n",
       "    <tr>\n",
       "      <td>19</td>\n",
       "      <td>occupation_armed-forces</td>\n",
       "      <td>0.713964</td>\n",
       "    </tr>\n",
       "    <tr>\n",
       "      <td>6</td>\n",
       "      <td>workclass_local-gov</td>\n",
       "      <td>0.690819</td>\n",
       "    </tr>\n",
       "    <tr>\n",
       "      <td>52</td>\n",
       "      <td>native.country_greece</td>\n",
       "      <td>0.655689</td>\n",
       "    </tr>\n",
       "    <tr>\n",
       "      <td>4</td>\n",
       "      <td>capital.loss</td>\n",
       "      <td>0.653944</td>\n",
       "    </tr>\n",
       "    <tr>\n",
       "      <td>28</td>\n",
       "      <td>occupation_protective-serv</td>\n",
       "      <td>0.642410</td>\n",
       "    </tr>\n",
       "    <tr>\n",
       "      <td>37</td>\n",
       "      <td>race_asian-pac-islander</td>\n",
       "      <td>0.632052</td>\n",
       "    </tr>\n",
       "    <tr>\n",
       "      <td>8</td>\n",
       "      <td>workclass_private</td>\n",
       "      <td>0.631098</td>\n",
       "    </tr>\n",
       "    <tr>\n",
       "      <td>30</td>\n",
       "      <td>occupation_tech-support</td>\n",
       "      <td>0.623623</td>\n",
       "    </tr>\n",
       "  </tbody>\n",
       "</table>\n",
       "</div>"
      ],
      "text/plain": [
       "                                     features   ranking\n",
       "13           marital.status_married-af-spouse  2.497979\n",
       "3                                capital.gain  2.452599\n",
       "14          marital.status_married-civ-spouse  1.989641\n",
       "26                 occupation_priv-house-serv  1.873840\n",
       "12                      workclass_without-pay  1.711998\n",
       "44                    native.country_columbia  1.621579\n",
       "36                          relationship_wife  1.483319\n",
       "46          native.country_dominican-republic  1.278011\n",
       "68  native.country_outlying-us(guam-usvi-etc)  1.029194\n",
       "22                 occupation_farming-fishing  0.992508\n",
       "10                 workclass_self-emp-not-inc  0.930919\n",
       "41                                   sex_male  0.840395\n",
       "67                   native.country_nicaragua  0.839061\n",
       "11                        workclass_state-gov  0.825129\n",
       "62                       native.country_italy  0.792821\n",
       "81                  native.country_yugoslavia  0.791697\n",
       "2                               education.num  0.783307\n",
       "21                 occupation_exec-managerial  0.761467\n",
       "34                     relationship_own-child  0.755001\n",
       "25                   occupation_other-service  0.737021\n",
       "75                       native.country_south  0.733478\n",
       "69                        native.country_peru  0.720105\n",
       "19                    occupation_armed-forces  0.713964\n",
       "6                         workclass_local-gov  0.690819\n",
       "52                      native.country_greece  0.655689\n",
       "4                                capital.loss  0.653944\n",
       "28                 occupation_protective-serv  0.642410\n",
       "37                    race_asian-pac-islander  0.632052\n",
       "8                           workclass_private  0.631098\n",
       "30                    occupation_tech-support  0.623623"
      ]
     },
     "execution_count": 177,
     "metadata": {},
     "output_type": "execute_result"
    }
   ],
   "source": [
    "features_1"
   ]
  },
  {
   "cell_type": "code",
   "execution_count": null,
   "metadata": {},
   "outputs": [],
   "source": []
  },
  {
   "cell_type": "code",
   "execution_count": null,
   "metadata": {},
   "outputs": [],
   "source": []
  }
 ],
 "metadata": {
  "kernelspec": {
   "display_name": "Python 3",
   "language": "python",
   "name": "python3"
  },
  "language_info": {
   "codemirror_mode": {
    "name": "ipython",
    "version": 3
   },
   "file_extension": ".py",
   "mimetype": "text/x-python",
   "name": "python",
   "nbconvert_exporter": "python",
   "pygments_lexer": "ipython3",
   "version": "3.7.4"
  }
 },
 "nbformat": 4,
 "nbformat_minor": 2
}

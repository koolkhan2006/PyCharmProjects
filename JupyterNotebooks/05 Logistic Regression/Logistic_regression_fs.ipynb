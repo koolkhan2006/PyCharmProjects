{
 "cells": [
  {
   "cell_type": "code",
   "execution_count": 1,
   "metadata": {},
   "outputs": [
    {
     "name": "stdout",
     "output_type": "stream",
     "text": [
      "CPU times: user 3.08 s, sys: 637 ms, total: 3.72 s\n",
      "Wall time: 3.74 s\n"
     ]
    }
   ],
   "source": [
    "%%time\n",
    "import time\n",
    "start = time.time()\n",
    "import pandas as pd\n",
    "import numpy as np\n",
    "from sklearn.preprocessing import StandardScaler\n",
    "from sklearn.preprocessing import LabelEncoder\n",
    "from sklearn.linear_model import LogisticRegression\n",
    "from sklearn.model_selection import  GridSearchCV, train_test_split as tts\n",
    "from sklearn.metrics import confusion_matrix, classification_report, accuracy_score, roc_auc_score, roc_curve\n",
    "import warnings\n",
    "warnings.filterwarnings(\"ignore\")"
   ]
  },
  {
   "cell_type": "code",
   "execution_count": null,
   "metadata": {},
   "outputs": [],
   "source": []
  },
  {
   "cell_type": "code",
   "execution_count": 2,
   "metadata": {},
   "outputs": [
    {
     "name": "stdout",
     "output_type": "stream",
     "text": [
      "CPU times: user 1.71 s, sys: 97.2 ms, total: 1.81 s\n",
      "Wall time: 2.65 s\n"
     ]
    }
   ],
   "source": [
    "%%time\n",
    "df = pd.read_csv(\"adult-census-income.zip\")\n",
    "removal= df.isin(['?']).any()[df.isin(['?']).any()==True].index.tolist()\n",
    "for col in removal:\n",
    "        df[col]= df[col].replace(\"?\", np.NaN)\n",
    "        try:\n",
    "            df[col] = df[col].astype(float)\n",
    "            mean = (df[col].mean(skipna=True))\n",
    "        except:\n",
    "            mean = df[col].mode()\n",
    "            mean = mean[0]\n",
    "        df[col]= df[col].replace(np.NaN, mean)\n",
    "df_clean = df\n",
    "\n",
    "le = LabelEncoder()\n",
    "df[\"income\"] = le.fit_transform(df[\"income\"])\n",
    "X = df.drop([\"income\"],1)\n",
    "y = df[\"income\"]\n",
    "num = X.select_dtypes(include = np.number)\n",
    "cat = X.select_dtypes(exclude = np.number)\n",
    "for x in list(cat):\n",
    "    cat[x] = cat[x].str.lower()\n",
    "\n",
    "cat.drop([\"education\"],1,inplace = True)\n",
    "cat = pd.get_dummies(cat, drop_first=True)\n",
    "scaler = StandardScaler()\n",
    "num = pd.DataFrame(scaler.fit_transform(num), columns=list(num))"
   ]
  },
  {
   "cell_type": "code",
   "execution_count": null,
   "metadata": {},
   "outputs": [],
   "source": []
  },
  {
   "cell_type": "code",
   "execution_count": 3,
   "metadata": {},
   "outputs": [],
   "source": [
    "def remove_outlier(X,y,z):\n",
    "    scaler = StandardScaler()\n",
    "    scaled_X = pd.DataFrame(scaler.fit_transform(X), columns=list(X))\n",
    "    for column_name in list(X):\n",
    "        X = X.drop(scaled_X[scaled_X[column_name] <= -3].index)\n",
    "        X = X.drop(scaled_X[scaled_X[column_name] >= 3].index)\n",
    "        y = y.drop(scaled_X[scaled_X[column_name] <= -3].index)\n",
    "        y = y.drop(scaled_X[scaled_X[column_name] >= 3].index)\n",
    "        z = z.drop(scaled_X[scaled_X[column_name] <= -3].index)\n",
    "        z = z.drop(scaled_X[scaled_X[column_name] >= 3].index)\n",
    "        scaled_X = scaled_X.drop(scaled_X[scaled_X[column_name] <= -3].index)\n",
    "        scaled_X = scaled_X.drop(scaled_X[scaled_X[column_name] >= 3].index)\n",
    "        X = X.reset_index(drop=True)\n",
    "        y = y.reset_index(drop=True)\n",
    "        z = z.reset_index(drop=True)\n",
    "        scaled_X = scaled_X.reset_index(drop=True)\n",
    "    return(X,y,z)\n",
    "num,y,cat = remove_outlier(num,y,cat)"
   ]
  },
  {
   "cell_type": "code",
   "execution_count": 4,
   "metadata": {},
   "outputs": [],
   "source": [
    "X = pd.concat([num,cat],1)\n",
    "y = y"
   ]
  },
  {
   "cell_type": "code",
   "execution_count": null,
   "metadata": {},
   "outputs": [],
   "source": []
  },
  {
   "cell_type": "code",
   "execution_count": 5,
   "metadata": {},
   "outputs": [],
   "source": [
    "log_reg = LogisticRegression(random_state=42)"
   ]
  },
  {
   "cell_type": "code",
   "execution_count": 6,
   "metadata": {},
   "outputs": [
    {
     "data": {
      "text/plain": [
       "0.8538286174064638"
      ]
     },
     "execution_count": 6,
     "metadata": {},
     "output_type": "execute_result"
    }
   ],
   "source": [
    "\n",
    "log_reg.fit(X,y)\n",
    "log_reg.score(X,y)"
   ]
  },
  {
   "cell_type": "code",
   "execution_count": 7,
   "metadata": {},
   "outputs": [
    {
     "name": "stdout",
     "output_type": "stream",
     "text": [
      "0.8507442671315543\n",
      "              precision    recall  f1-score   support\n",
      "\n",
      "           0       0.88      0.93      0.91      5786\n",
      "           1       0.71      0.56      0.63      1671\n",
      "\n",
      "    accuracy                           0.85      7457\n",
      "   macro avg       0.80      0.75      0.77      7457\n",
      "weighted avg       0.84      0.85      0.84      7457\n",
      "\n",
      "CPU times: user 678 ms, sys: 60.7 ms, total: 739 ms\n",
      "Wall time: 632 ms\n"
     ]
    }
   ],
   "source": [
    "%%time\n",
    "X_train, X_test, y_train, y_test = tts(X,y,test_size = 0.25, random_state = 42)\n",
    "log_reg.fit(X_train,y_train)\n",
    "y_pred = log_reg.predict(X_test)\n",
    "print (accuracy_score(y_test,y_pred))\n",
    "print (classification_report(y_test,y_pred))"
   ]
  },
  {
   "cell_type": "code",
   "execution_count": 8,
   "metadata": {},
   "outputs": [
    {
     "name": "stdout",
     "output_type": "stream",
     "text": [
      "[[5401  385]\n",
      " [ 728  943]]\n"
     ]
    }
   ],
   "source": [
    "print (confusion_matrix(y_test,y_pred))\n"
   ]
  },
  {
   "cell_type": "code",
   "execution_count": 9,
   "metadata": {},
   "outputs": [
    {
     "name": "stdout",
     "output_type": "stream",
     "text": [
      "0.7488964054674577\n"
     ]
    }
   ],
   "source": [
    "print (roc_auc_score(y_test,y_pred))"
   ]
  },
  {
   "cell_type": "code",
   "execution_count": 10,
   "metadata": {},
   "outputs": [],
   "source": [
    "\n",
    "def extract_best_features(model,n):\n",
    "    features = list(X)\n",
    "    fs = pd.DataFrame()\n",
    "    ranking = pd.Series(model.coef_[0])\n",
    "    fs[\"features\"] = features\n",
    "    fs[\"ranking\"] = ranking\n",
    "    fs[\"ranking\"] = np.abs(fs[\"ranking\"])\n",
    "    fs = fs.sort_values([\"ranking\"], ascending=False)\n",
    "    fs = fs[:n]\n",
    "    return fs"
   ]
  },
  {
   "cell_type": "code",
   "execution_count": 11,
   "metadata": {},
   "outputs": [
    {
     "data": {
      "text/plain": [
       "LogisticRegression(C=1.0, class_weight=None, dual=False, fit_intercept=True,\n",
       "                   intercept_scaling=1, l1_ratio=None, max_iter=100,\n",
       "                   multi_class='warn', n_jobs=None, penalty='l2',\n",
       "                   random_state=42, solver='warn', tol=0.0001, verbose=0,\n",
       "                   warm_start=False)"
      ]
     },
     "execution_count": 11,
     "metadata": {},
     "output_type": "execute_result"
    }
   ],
   "source": [
    "log_reg"
   ]
  },
  {
   "cell_type": "code",
   "execution_count": 12,
   "metadata": {},
   "outputs": [],
   "source": [
    "features_1 = extract_best_features(log_reg,15)\n",
    "features_1 = features_1[\"features\"].tolist()"
   ]
  },
  {
   "cell_type": "code",
   "execution_count": 13,
   "metadata": {},
   "outputs": [
    {
     "data": {
      "text/plain": [
       "['capital.gain',\n",
       " 'marital.status_married-af-spouse',\n",
       " 'marital.status_married-civ-spouse',\n",
       " 'relationship_wife',\n",
       " 'occupation_priv-house-serv',\n",
       " 'workclass_without-pay',\n",
       " 'native.country_south',\n",
       " 'native.country_laos',\n",
       " 'relationship_own-child',\n",
       " 'occupation_farming-fishing',\n",
       " 'workclass_self-emp-not-inc',\n",
       " 'native.country_dominican-republic',\n",
       " 'native.country_vietnam',\n",
       " 'native.country_greece',\n",
       " 'capital.loss']"
      ]
     },
     "execution_count": 13,
     "metadata": {},
     "output_type": "execute_result"
    }
   ],
   "source": [
    "features_1"
   ]
  },
  {
   "cell_type": "code",
   "execution_count": 14,
   "metadata": {},
   "outputs": [
    {
     "data": {
      "text/plain": [
       "SelectKBest(k=15, score_func=<function f_classif at 0x7f8454fda6a8>)"
      ]
     },
     "execution_count": 14,
     "metadata": {},
     "output_type": "execute_result"
    }
   ],
   "source": [
    "from sklearn.feature_selection import SelectKBest, f_classif\n",
    "skb = SelectKBest(score_func=f_classif, k = 15)\n",
    "skb.fit(X,y)"
   ]
  },
  {
   "cell_type": "code",
   "execution_count": 15,
   "metadata": {},
   "outputs": [],
   "source": [
    "features = list(X)\n",
    "fs = pd.DataFrame()\n",
    "p_values = pd.Series(skb.pvalues_)\n",
    "fs[\"features\"] = features\n",
    "fs[\"p_values\"] = p_values\n",
    "fs = fs.sort_values([\"p_values\"], ascending=True)\n",
    "fs = fs[:15]"
   ]
  },
  {
   "cell_type": "code",
   "execution_count": 16,
   "metadata": {},
   "outputs": [],
   "source": [
    "features_2 = fs\n",
    "features_2 = features_2[\"features\"].tolist()"
   ]
  },
  {
   "cell_type": "code",
   "execution_count": 17,
   "metadata": {},
   "outputs": [],
   "source": [
    "from sklearn.feature_selection import RFECV, RFE"
   ]
  },
  {
   "cell_type": "code",
   "execution_count": null,
   "metadata": {},
   "outputs": [],
   "source": [
    "%%time\n",
    "rfe_cv = RFECV(estimator=log_reg,min_features_to_select=15, cv = 5)\n",
    "rfe_cv.fit(X,y)"
   ]
  },
  {
   "cell_type": "code",
   "execution_count": null,
   "metadata": {},
   "outputs": [],
   "source": [
    "boolean = rfe_cv.get_support().tolist()"
   ]
  },
  {
   "cell_type": "code",
   "execution_count": null,
   "metadata": {},
   "outputs": [],
   "source": [
    "from itertools import compress\n",
    "features_3 = list(compress(list(X), boolean))"
   ]
  },
  {
   "cell_type": "code",
   "execution_count": null,
   "metadata": {},
   "outputs": [],
   "source": [
    "features_3 = features_3[:15]"
   ]
  },
  {
   "cell_type": "code",
   "execution_count": null,
   "metadata": {},
   "outputs": [],
   "source": [
    "import statsmodels.api as sm\n",
    "X_3 = sm.add_constant(X)\n",
    "X_train, X_test, y_train, y_test = tts(X_3,y,random_state = 42, test_size = 0.25)\n",
    "model = sm.Logit(y_train,X_train).fit(method = 'bfgs')\n",
    "model.summary()\n",
    "\n",
    "def logit_fs(X,y):\n",
    "    X_sm = sm.add_constant(X)\n",
    "    model = sm.Logit(y.astype(float),X_sm.astype(float)).fit(method='lbfgs')\n",
    "    results_summary = model.summary()\n",
    "    results_as_html = results_summary.tables[1].as_html()\n",
    "    p_df = pd.read_html(results_as_html, header=0, index_col=0)[0]\n",
    "    for i in range(p_df.shape[0]):\n",
    "        if p_df['P>|z|'].max()>=.05:\n",
    "            p_df = p_df[p_df['P>|z|']!=p_df['P>|z|'].max()]\n",
    "            list_new = list(p_df.index)\n",
    "            X_sm = X_sm[list_new]\n",
    "            model = sm.Logit(y,X_sm).fit()\n",
    "            results_summary = model.summary()\n",
    "            results_as_html = results_summary.tables[1].as_html()\n",
    "            p_df = pd.read_html(results_as_html, header=0, index_col=0)[0]\n",
    "    features = list(p_df.index)[1:]\n",
    "    return(features,results_summary)\n",
    "features_4, summary = logit_fs(X_train,y_train)\n",
    "features_4 = features_4[:15]"
   ]
  },
  {
   "cell_type": "code",
   "execution_count": null,
   "metadata": {},
   "outputs": [],
   "source": [
    "features_4"
   ]
  },
  {
   "cell_type": "code",
   "execution_count": null,
   "metadata": {},
   "outputs": [],
   "source": [
    "def print_metrics(model, feature_list_to_use):\n",
    "    X_1 = X[feature_list_to_use]\n",
    "    X_train, X_test, y_train, y_test = tts(X_1,y,random_state = 42, test_size = 0.25)\n",
    "    model.fit(X_train,y_train)\n",
    "    y_pred = model.predict(X_test)\n",
    "    print (\"Accuracy_score is \" + str(accuracy_score(y_test,y_pred)))\n",
    "    print (classification_report(y_test,y_pred))\n",
    "    print (\"AUC_score is \" + str(roc_auc_score(y_test,y_pred)))"
   ]
  },
  {
   "cell_type": "code",
   "execution_count": null,
   "metadata": {},
   "outputs": [],
   "source": [
    "# features_1= features_1[\"features\"].tolist()"
   ]
  },
  {
   "cell_type": "code",
   "execution_count": null,
   "metadata": {},
   "outputs": [],
   "source": [
    "# features_2 = features_2[\"features\"].tolist()"
   ]
  },
  {
   "cell_type": "code",
   "execution_count": null,
   "metadata": {},
   "outputs": [],
   "source": [
    "features_4"
   ]
  },
  {
   "cell_type": "code",
   "execution_count": null,
   "metadata": {},
   "outputs": [],
   "source": [
    "#All features, normal Logistic regression\n",
    "model = LogisticRegression(random_state=42)\n",
    "print_metrics(model, list(X))"
   ]
  },
  {
   "cell_type": "code",
   "execution_count": null,
   "metadata": {},
   "outputs": [],
   "source": [
    "#skb_features, normal Logistic regression\n",
    "model = LogisticRegression(random_state=42)\n",
    "print_metrics(model, features_2)"
   ]
  },
  {
   "cell_type": "code",
   "execution_count": null,
   "metadata": {},
   "outputs": [],
   "source": [
    "#rfe_cv_features, normal Logistic regression\n",
    "model = LogisticRegression(random_state=42)\n",
    "print_metrics(model, features_3)"
   ]
  },
  {
   "cell_type": "code",
   "execution_count": null,
   "metadata": {},
   "outputs": [],
   "source": [
    "#sm_logit_features, normal Logistic regression\n",
    "model = LogisticRegression(random_state=42)\n",
    "print_metrics(model, features_4)"
   ]
  },
  {
   "cell_type": "code",
   "execution_count": null,
   "metadata": {},
   "outputs": [],
   "source": [
    "#All features, normal Logistic regression\n",
    "model = LogisticRegression(random_state=42, class_weight=\"balanced\")\n",
    "print_metrics(model, list(X))"
   ]
  },
  {
   "cell_type": "code",
   "execution_count": null,
   "metadata": {},
   "outputs": [],
   "source": [
    "#skb_features, normal Logistic regression\n",
    "model = LogisticRegression(random_state=42, class_weight=\"balanced\")\n",
    "print_metrics(model, features_2)"
   ]
  },
  {
   "cell_type": "code",
   "execution_count": null,
   "metadata": {},
   "outputs": [],
   "source": [
    "#rfe_cv_features, normal Logistic regression\n",
    "model = LogisticRegression(random_state=42, class_weight = \"balanced\")\n",
    "print_metrics(model, features_3)"
   ]
  },
  {
   "cell_type": "code",
   "execution_count": null,
   "metadata": {},
   "outputs": [],
   "source": [
    "#sm_logit_features, normal Logistic regression\n",
    "model = LogisticRegression(random_state=42, class_weight=\"balanced\")\n",
    "print_metrics(model, features_4)"
   ]
  },
  {
   "cell_type": "code",
   "execution_count": null,
   "metadata": {},
   "outputs": [],
   "source": [
    "from sklearn.model_selection import GridSearchCV, RandomizedSearchCV"
   ]
  },
  {
   "cell_type": "code",
   "execution_count": null,
   "metadata": {},
   "outputs": [],
   "source": [
    "X_1 = X[features_2]\n",
    "X_train, X_test, y_train, y_test = tts(X_1,y,test_size = 0.25, random_state = 42)\n",
    "params= {\"C\":np.arange(0.1,10,0.1), \n",
    "        \"penalty\":[\"l1\", \"l2\"]}"
   ]
  },
  {
   "cell_type": "code",
   "execution_count": null,
   "metadata": {},
   "outputs": [],
   "source": [
    "params"
   ]
  },
  {
   "cell_type": "code",
   "execution_count": null,
   "metadata": {},
   "outputs": [],
   "source": [
    "model = LogisticRegression(random_state=42, class_weight=\"balanced\")\n",
    "log_reg_cv = GridSearchCV(param_grid=params, cv = 5, estimator=model )"
   ]
  },
  {
   "cell_type": "code",
   "execution_count": null,
   "metadata": {},
   "outputs": [],
   "source": [
    "%%time\n",
    "log_reg_cv.fit(X_train, y_train)"
   ]
  },
  {
   "cell_type": "code",
   "execution_count": null,
   "metadata": {},
   "outputs": [],
   "source": [
    "log_reg_cv.best_params_"
   ]
  },
  {
   "cell_type": "code",
   "execution_count": null,
   "metadata": {},
   "outputs": [],
   "source": [
    "print (\"Run time is \"+str(time.time() - start))"
   ]
  },
  {
   "cell_type": "code",
   "execution_count": null,
   "metadata": {},
   "outputs": [],
   "source": [
    "model = log_reg_cv.best_estimator_"
   ]
  },
  {
   "cell_type": "code",
   "execution_count": null,
   "metadata": {},
   "outputs": [],
   "source": [
    "model"
   ]
  },
  {
   "cell_type": "code",
   "execution_count": null,
   "metadata": {},
   "outputs": [],
   "source": [
    "print_metrics(model=model, feature_list_to_use=features_2)"
   ]
  },
  {
   "cell_type": "code",
   "execution_count": null,
   "metadata": {},
   "outputs": [],
   "source": [
    "!pip install imblearn"
   ]
  },
  {
   "cell_type": "code",
   "execution_count": null,
   "metadata": {},
   "outputs": [],
   "source": [
    "from imblearn.over_sampling import SMOTE"
   ]
  },
  {
   "cell_type": "code",
   "execution_count": null,
   "metadata": {},
   "outputs": [],
   "source": [
    "X_1 = X[features_2]\n",
    "# X_train, X_test, y_train, y_test = tts(X_1,y,test_size = 0.25, random_state = 42)"
   ]
  },
  {
   "cell_type": "code",
   "execution_count": null,
   "metadata": {},
   "outputs": [],
   "source": [
    "sm = SMOTE(random_state=42)\n",
    "X_res, y_res = sm.fit_sample(X_1, y.ravel())"
   ]
  },
  {
   "cell_type": "code",
   "execution_count": null,
   "metadata": {},
   "outputs": [],
   "source": [
    "X_train, X_test, y_train, y_test = tts(X_res,y_res,test_size = 0.25, random_state = 42)"
   ]
  },
  {
   "cell_type": "code",
   "execution_count": null,
   "metadata": {},
   "outputs": [],
   "source": [
    "# model.fit(X_train,y_train)"
   ]
  },
  {
   "cell_type": "code",
   "execution_count": null,
   "metadata": {},
   "outputs": [],
   "source": [
    "# y_pred=model.predict(X_test)"
   ]
  },
  {
   "cell_type": "code",
   "execution_count": null,
   "metadata": {},
   "outputs": [],
   "source": [
    "# print (classification_report(y_test,y_pred))"
   ]
  },
  {
   "cell_type": "code",
   "execution_count": null,
   "metadata": {},
   "outputs": [],
   "source": [
    "model.fit(X_train,y_train)\n",
    "y_pred = model.predict(X_test)\n",
    "print (\"Accuracy_score is \" + str(accuracy_score(y_test,y_pred)))\n",
    "print (classification_report(y_test,y_pred))\n",
    "print (\"AUC_score is \" + str(roc_auc_score(y_test,y_pred)))"
   ]
  },
  {
   "cell_type": "code",
   "execution_count": null,
   "metadata": {},
   "outputs": [],
   "source": []
  }
 ],
 "metadata": {
  "kernelspec": {
   "display_name": "Python 3.6",
   "language": "python",
   "name": "python36"
  },
  "language_info": {
   "codemirror_mode": {
    "name": "ipython",
    "version": 3
   },
   "file_extension": ".py",
   "mimetype": "text/x-python",
   "name": "python",
   "nbconvert_exporter": "python",
   "pygments_lexer": "ipython3",
   "version": "3.6.6"
  }
 },
 "nbformat": 4,
 "nbformat_minor": 2
}
